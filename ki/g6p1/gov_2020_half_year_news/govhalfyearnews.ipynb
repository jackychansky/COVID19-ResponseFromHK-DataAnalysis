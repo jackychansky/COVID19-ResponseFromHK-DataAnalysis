{
 "cells": [
  {
   "cell_type": "code",
   "execution_count": 51,
   "metadata": {},
   "outputs": [],
   "source": [
    "from selenium.webdriver.chrome.options import Options\n",
    "from selenium.common.exceptions import TimeoutException\n",
    "from selenium.webdriver.support.ui import WebDriverWait\n",
    "from selenium.webdriver.support import expected_conditions as EC\n",
    "from selenium.webdriver.common.by import By\n",
    "from selenium import webdriver\n",
    "chrome_options = Options() # 啟動無頭模式\n",
    "chrome_options.add_argument('--headless')  #規避google bug\n",
    "chrome_options.add_argument('--disable-gpu')\n",
    "driver = webdriver.Chrome(r'C:\\Users\\yeung\\Google Drive\\xecelerate\\small programme\\chromedriver',options=chrome_options)\n",
    "\n",
    "from bs4 import BeautifulSoup as bs\n",
    "\n",
    "import requests\n",
    "import pandas as pd\n",
    "import re\n",
    "import numpy as np"
   ]
  },
  {
   "cell_type": "code",
   "execution_count": 4,
   "metadata": {},
   "outputs": [],
   "source": [
    "#https://www.info.gov.hk/gia/general/202002/29.htm?fontSize=1\n",
    "URL = 'https://www.info.gov.hk/'\n",
    "datedict = {'1':31, '2':29, '3':31, '4':30, '5':31, '6':30}\n"
   ]
  },
  {
   "cell_type": "code",
   "execution_count": 31,
   "metadata": {
    "scrolled": true
   },
   "outputs": [
    {
     "data": {
      "text/plain": [
       "'HKT 23:27'"
      ]
     },
     "execution_count": 31,
     "metadata": {},
     "output_type": "execute_result"
    }
   ],
   "source": [
    "soup = bs(requests.get(URL+'gia/general/202002/12/P2020021200773.htm').text, 'html.parser')\n",
    "re.search(r'HKT \\d\\d:\\d\\d', soup.find(id=\"pressrelease\").text).group()"
   ]
  },
  {
   "cell_type": "code",
   "execution_count": 46,
   "metadata": {},
   "outputs": [],
   "source": [
    "datedict = {'4':30, '5':31, '6':30}"
   ]
  },
  {
   "cell_type": "code",
   "execution_count": 60,
   "metadata": {},
   "outputs": [
    {
     "name": "stdout",
     "output_type": "stream",
     "text": [
      "https://www.info.gov.hk/gia/general/202005/30/P2020053000753.htm 1 times try\n"
     ]
    }
   ],
   "source": [
    "l=[]\n",
    "datedict = {'1':31, '2':29, '3':31, '4':30, '5':31, '6':30}\n",
    "for i in datedict:\n",
    "    for j in range(1,datedict[i]+1):\n",
    "        if j in range(1,10):\n",
    "            j = '0'+str(j)\n",
    "        url = URL +'gia/general/20200'+i+'/'+str(j)+'.htm'\n",
    "        driver.get(url)\n",
    "        waitxpath = '//*[@id=\"contentBody\"]/div[1]/div[1]/ul/li[1]/a'\n",
    "        try:\n",
    "            element_present = EC.presence_of_element_located((By.XPATH, waitxpath))\n",
    "            WebDriverWait(driver, 10).until(element_present)\n",
    "        except:\n",
    "            print(driver.current_url, 'die')\n",
    "            break\n",
    "        date_url_list=bs(requests.get(driver.current_url).text, 'html.parser').find_all(class_='NEW')\n",
    "        for k in date_url_list:\n",
    "            d={}\n",
    "            new_url = URL[:-1]+k['href']\n",
    "            soup = bs(requests.get(new_url).text, 'html.parser')\n",
    "            \n",
    "            trial = 1\n",
    "            while not soup.find(id=\"PRHeadlineSpan\"):\n",
    "                soup = bs(requests.get(new_url).text, 'html.parser')\n",
    "                print(new_url, trial ,'times try')\n",
    "                trial += 1\n",
    "                \n",
    "            d['Date']='2020-'+i+'-'+str(j)\n",
    "            try:\n",
    "                d['time']=re.search(r'HKT \\d\\d:\\d\\d', soup.find(id=\"pressrelease\").text).group()\n",
    "            except:\n",
    "                d['time']=np.nan\n",
    "            d['Title']=soup.find(id=\"PRHeadlineSpan\").text\n",
    "            d['Content']=soup.find(id=\"pressrelease\").text.replace('\\n','').replace('\\t','').replace('\\xa0','').replace('â\\x80\\x8b','').replace('\\r','')\n",
    "            d['url']=new_url\n",
    "            l.append(d)\n",
    "            \n",
    "            "
   ]
  },
  {
   "cell_type": "code",
   "execution_count": 61,
   "metadata": {},
   "outputs": [],
   "source": [
    "df = pd.DataFrame(l)\n",
    "df.to_csv('gov_2020_jan-jun_news.csv')"
   ]
  },
  {
   "cell_type": "code",
   "execution_count": 62,
   "metadata": {},
   "outputs": [
    {
     "data": {
      "text/plain": [
       "4788"
      ]
     },
     "execution_count": 62,
     "metadata": {},
     "output_type": "execute_result"
    }
   ],
   "source": [
    "len(l)"
   ]
  },
  {
   "cell_type": "code",
   "execution_count": 49,
   "metadata": {},
   "outputs": [
    {
     "data": {
      "text/plain": [
       "<!DOCTYPE html>\n",
       "\n",
       "<!--[if lt IE 7]> <html class=\"no-js ie6 oldie\" lang=\"en-US\"> <![endif]-->\n",
       "<!--[if IE 7]>    <html class=\"no-js ie7 oldie\" lang=\"en-US\"> <![endif]-->\n",
       "<!--[if IE 8]>    <html class=\"no-js ie8 oldie\" lang=\"en-US\"> <![endif]-->\n",
       "<!--[if gt IE 8]><!--> <html class=\"no-js\" lang=\"en-US\"> <!--<![endif]-->\n",
       "<head>\n",
       "<title>www.info.gov.hk | 502: Bad gateway</title>\n",
       "<meta charset=\"utf-8\"/>\n",
       "<meta content=\"text/html; charset=utf-8\" http-equiv=\"Content-Type\"/>\n",
       "<meta content=\"IE=Edge,chrome=1\" http-equiv=\"X-UA-Compatible\"/>\n",
       "<meta content=\"noindex, nofollow\" name=\"robots\"/>\n",
       "<meta content=\"width=device-width,initial-scale=1\" name=\"viewport\"/>\n",
       "<link href=\"/cdn-cgi/styles/main.css\" id=\"cf_styles-css\" media=\"screen,projection\" rel=\"stylesheet\" type=\"text/css\"/>\n",
       "</head>\n",
       "<body>\n",
       "<div id=\"cf-wrapper\">\n",
       "<div class=\"p-0\" id=\"cf-error-details\">\n",
       "<header class=\"mx-auto pt-10 lg:pt-6 lg:px-8 w-240 lg:w-full mb-8\">\n",
       "<h1 class=\"inline-block sm:block sm:mb-2 font-light text-60 lg:text-4xl text-black-dark leading-tight mr-2\">\n",
       "<span class=\"cf-error-type\">Error</span>\n",
       "<span class=\"cf-error-code\">502</span>\n",
       "</h1>\n",
       "<span class=\"inline-block sm:block font-mono text-15 lg:text-sm lg:leading-relaxed\">Ray ID: 5d180d519ca4a2d0 •</span>\n",
       "<span class=\"inline-block sm:block font-mono text-15 lg:text-sm lg:leading-relaxed\">2020-09-12 07:52:58 UTC</span>\n",
       "<h2 class=\"text-gray-600 leading-1.3 text-3xl font-light\">Bad gateway</h2>\n",
       "</header>\n",
       "<div class=\"my-8 bg-gradient-gray\">\n",
       "<div class=\"w-240 lg:w-full mx-auto\">\n",
       "<div class=\"clearfix md:px-8\">\n",
       "<div class=\"relative w-1/3 md:w-full py-15 md:p-0 md:py-8 md:text-left md:border-solid md:border-0 md:border-b md:border-gray-400 overflow-hidden float-left md:float-none text-center\" id=\"cf-browser-status\">\n",
       "<div class=\"relative mb-10 md:m-0\">\n",
       "<span class=\"cf-icon-browser block md:hidden h-20 bg-center bg-no-repeat\"></span>\n",
       "<span class=\"cf-icon-ok w-12 h-12 absolute left-1/2 md:left-auto md:right-0 md:top-0 -ml-6 -bottom-4\"></span>\n",
       "</div>\n",
       "<span class=\"md:block w-full truncate\">You</span>\n",
       "<h3 class=\"md:inline-block mt-3 md:mt-0 text-2xl text-gray-600 font-light leading-1.3\">Browser</h3>\n",
       "<span class=\"leading-1.3 text-2xl text-green-success\">Working</span>\n",
       "</div>\n",
       "<div class=\"relative w-1/3 md:w-full py-15 md:p-0 md:py-8 md:text-left md:border-solid md:border-0 md:border-b md:border-gray-400 overflow-hidden float-left md:float-none text-center\" id=\"cf-cloudflare-status\">\n",
       "<div class=\"relative mb-10 md:m-0\">\n",
       "<span class=\"cf-icon-cloud block md:hidden h-20 bg-center bg-no-repeat\"></span>\n",
       "<span class=\"cf-icon-ok w-12 h-12 absolute left-1/2 md:left-auto md:right-0 md:top-0 -ml-6 -bottom-4\"></span>\n",
       "</div>\n",
       "<span class=\"md:block w-full truncate\">Hong Kong</span>\n",
       "<h3 class=\"md:inline-block mt-3 md:mt-0 text-2xl text-gray-600 font-light leading-1.3\">Cloudflare</h3>\n",
       "<span class=\"leading-1.3 text-2xl text-green-success\">Working</span>\n",
       "</div>\n",
       "<div class=\"cf-error-source relative w-1/3 md:w-full py-15 md:p-0 md:py-8 md:text-left md:border-solid md:border-0 md:border-b md:border-gray-400 overflow-hidden float-left md:float-none text-center\" id=\"cf-host-status\">\n",
       "<div class=\"relative mb-10 md:m-0\">\n",
       "<span class=\"cf-icon-server block md:hidden h-20 bg-center bg-no-repeat\"></span>\n",
       "<span class=\"cf-icon-error w-12 h-12 absolute left-1/2 md:left-auto md:right-0 md:top-0 -ml-6 -bottom-4\"></span>\n",
       "</div>\n",
       "<span class=\"md:block w-full truncate\">www.info.gov.hk</span>\n",
       "<h3 class=\"md:inline-block mt-3 md:mt-0 text-2xl text-gray-600 font-light leading-1.3\">Host</h3>\n",
       "<span class=\"leading-1.3 text-2xl text-red-error\">Error</span>\n",
       "</div>\n",
       "</div>\n",
       "</div>\n",
       "</div>\n",
       "<div class=\"w-240 lg:w-full mx-auto mb-8 lg:px-8\">\n",
       "<div class=\"clearfix\">\n",
       "<div class=\"w-1/2 md:w-full float-left pr-6 md:pb-10 md:pr-0 leading-relaxed\">\n",
       "<h2 class=\"text-3xl font-normal leading-1.3 mb-4\">What happened?</h2>\n",
       "<p>The web server reported a bad gateway error.</p>\n",
       "</div>\n",
       "<div class=\"w-1/2 md:w-full float-left leading-relaxed\">\n",
       "<h2 class=\"text-3xl font-normal leading-1.3 mb-4\">What can I do?</h2>\n",
       "<p class=\"mb-6\">Please try again in a few minutes.</p>\n",
       "</div>\n",
       "</div>\n",
       "</div>\n",
       "<div class=\"cf-error-footer cf-wrapper w-240 lg:w-full py-10 sm:py-4 sm:px-8 mx-auto text-center sm:text-left border-solid border-0 border-t border-gray-300\">\n",
       "<p class=\"text-13\">\n",
       "<span class=\"cf-footer-item sm:block sm:mb-1\">Cloudflare Ray ID: <strong class=\"font-semibold\">5d180d519ca4a2d0</strong></span>\n",
       "<span class=\"cf-footer-separator sm:hidden\">•</span>\n",
       "<span class=\"cf-footer-item sm:block sm:mb-1\"><span>Your IP</span>: 119.247.180.36</span>\n",
       "<span class=\"cf-footer-separator sm:hidden\">•</span>\n",
       "<span class=\"cf-footer-item sm:block sm:mb-1\"><span>Performance &amp; security by</span> <a href=\"https://www.cloudflare.com/5xx-error-landing\" id=\"brand_link\" target=\"_blank\">Cloudflare</a></span>\n",
       "</p>\n",
       "</div><!-- /.error-footer -->\n",
       "</div>\n",
       "</div>\n",
       "</body>\n",
       "</html>"
      ]
     },
     "execution_count": 49,
     "metadata": {},
     "output_type": "execute_result"
    }
   ],
   "source": [
    "soup"
   ]
  },
  {
   "cell_type": "code",
   "execution_count": null,
   "metadata": {},
   "outputs": [],
   "source": []
  }
 ],
 "metadata": {
  "kernelspec": {
   "display_name": "Python 3",
   "language": "python",
   "name": "python3"
  },
  "language_info": {
   "codemirror_mode": {
    "name": "ipython",
    "version": 3
   },
   "file_extension": ".py",
   "mimetype": "text/x-python",
   "name": "python",
   "nbconvert_exporter": "python",
   "pygments_lexer": "ipython3",
   "version": "3.7.6"
  }
 },
 "nbformat": 4,
 "nbformat_minor": 4
}
