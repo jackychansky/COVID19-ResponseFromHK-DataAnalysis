{
 "cells": [
  {
   "cell_type": "code",
   "execution_count": 5,
   "metadata": {},
   "outputs": [
    {
     "name": "stdout",
     "output_type": "stream",
     "text": [
      "after change download directory press enter\n"
     ]
    }
   ],
   "source": [
    "def getdatacsv(kwlist, geo='HK'):\n",
    "    from selenium.webdriver.chrome.options import Options\n",
    "    from selenium.common.exceptions import TimeoutException\n",
    "    from selenium.webdriver.support.ui import WebDriverWait\n",
    "    from selenium.webdriver.support import expected_conditions as EC\n",
    "    from selenium.webdriver.common.by import By\n",
    "    import time\n",
    "\n",
    "    #set download automatically\n",
    "    options = Options()\n",
    "    options.add_experimental_option(\"prefs\", {\n",
    "      \"download.default_directory\": r'C:\\Users\\yeung\\Downloads\\g6p1',\n",
    "      \"download.prompt_for_download\": True,\n",
    "      \"download.directory_upgrade\": True,\n",
    "      \"safebrowsing.enabled\": True\n",
    "    })\n",
    "\n",
    "    from selenium import webdriver\n",
    "    driver = webdriver.Chrome(r'C:\\Users\\yeung\\Google Drive\\xecelerate\\small programme\\chromedriver')\n",
    "    input('after change download directory press enter')\n",
    "    \n",
    "    #check if kwlist have chinese char.\n",
    "    import re\n",
    "    ischi = lambda x: not bool(re.match(r'^[a-zA-Z\\-\\' ]+', x))\n",
    "    \n",
    "    #translate kwlist into utf-8 encoding\n",
    "    trslated = []\n",
    "    for i in kwlist:\n",
    "        if ischi(i):\n",
    "            trslated.append('%'+'%'.join(re.findall(r'(?:x)(\\w\\w)', str(i.encode('utf-8')))))\n",
    "        else:\n",
    "            trslated.append(i)\n",
    "    \n",
    "    #generate query keywords\n",
    "    indexkeyword = '%e5%8f%a3%e7%bd%a9'\n",
    "    linkkeyword = []\n",
    "    if len(trslated) > 3:\n",
    "        while len(trslated) >= 3:\n",
    "            linkkeyword.append(indexkeyword+','+','.join(trslated[:3]))\n",
    "\n",
    "            trslated = trslated[3:]\n",
    "            if len(trslated)<3 and len(trslated)>0:\n",
    "                linkkeyword.append(indexkeyword+','+','.join(trslated))\n",
    "    else:\n",
    "        linkkeyword.append(indexkeyword+','+''.join(trslated))\n",
    "    \n",
    "    if geo=='HK':\n",
    "        for i in linkkeyword:\n",
    "            urlhk = 'https://trends.google.com/trends/explore?date=2020-01-01%202020-06-30&geo=HK&q='\n",
    "            requesturl = urlhk+i\n",
    "            driver.get(requesturl)\n",
    "            time.sleep(8)\n",
    "            #click the download buttom\n",
    "            \n",
    "            xpath = '/html/body/div[2]/div[2]/div/md-content/div/div/div[1]/trends-widget/ng-include/widget/div/div/div/widget-actions/div/button[1]/i'\n",
    "            try:\n",
    "                element_present = EC.presence_of_element_located((By.XPATH, xpath))\n",
    "                WebDriverWait(driver, 600).until(element_present)\n",
    "            except TimeoutException:\n",
    "                print(\"Timed out waiting for page to load\")\n",
    "            download = driver.find_element_by_xpath(xpath)\n",
    "            download.click()\n",
    "            time.sleep(5)\n",
    "            \n",
    "kwlist=['a','b','c','出入境', '肺炎', '消毒酒精', '洗手液', 'mask', 'facemask', '封關', '紙巾','世界未日', 'end of the world', '肺炎徵狀', 'covid syndrome', '廁紙','toillet  paper', 'air-purifier', '空氣淨化器', '出境', '入境', '去旅行', '健康', '行山','旅行', 'travelling', '移民', 'china', '中國', '香港']\n",
    "getdatacsv(kwlist, geo='HK')"
   ]
  },
  {
   "cell_type": "code",
   "execution_count": 3,
   "metadata": {},
   "outputs": [
    {
     "data": {
      "text/plain": [
       "False"
      ]
     },
     "execution_count": 3,
     "metadata": {},
     "output_type": "execute_result"
    }
   ],
   "source": [
    "import re\n",
    "ischi = lambda x: not bool(re.match(r'^[a-zA-Z\\-\\' ]+', x))\n",
    "ischi('end of the world')"
   ]
  },
  {
   "cell_type": "code",
   "execution_count": null,
   "metadata": {},
   "outputs": [],
   "source": []
  }
 ],
 "metadata": {
  "kernelspec": {
   "display_name": "Python 3",
   "language": "python",
   "name": "python3"
  },
  "language_info": {
   "codemirror_mode": {
    "name": "ipython",
    "version": 3
   },
   "file_extension": ".py",
   "mimetype": "text/x-python",
   "name": "python",
   "nbconvert_exporter": "python",
   "pygments_lexer": "ipython3",
   "version": "3.7.6"
  }
 },
 "nbformat": 4,
 "nbformat_minor": 4
}
