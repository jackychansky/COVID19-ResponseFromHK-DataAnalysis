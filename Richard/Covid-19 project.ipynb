{
 "cells": [
  {
   "cell_type": "code",
   "execution_count": 1,
   "metadata": {},
   "outputs": [],
   "source": [
    "import requests\n",
    "import json\n",
    "import pandas as pd\n",
    "from bs4 import BeautifulSoup\n",
    "import requests\n",
    "from selenium import webdriver\n",
    "from selenium.webdriver.common.keys import Keys\n",
    "from selenium.webdriver.support.ui import WebDriverWait\n",
    "import lxml.html as lh"
   ]
  },
  {
   "cell_type": "code",
   "execution_count": 2,
   "metadata": {},
   "outputs": [],
   "source": [
    "datelist=pd.date_range(start='2020-01-24', end='2020-06-30',closed=None).astype(str).to_list()\n",
    "newdatelist=[]\n",
    "for a in datelist:\n",
    "    newdatelist.append(a.replace('-',''))\n",
    "#URL = 'https://www.immd.gov.hk/eng/stat_'+i+'.html'"
   ]
  },
  {
   "cell_type": "code",
   "execution_count": 3,
   "metadata": {},
   "outputs": [],
   "source": [
    "# newdatelist"
   ]
  },
  {
   "cell_type": "code",
   "execution_count": 4,
   "metadata": {},
   "outputs": [],
   "source": [
    "URL1 = 'https://www.immd.gov.hk/eng/stat_20200124.html'\n",
    "URL = 'https://www.immd.gov.hk/eng/stat_'\n",
    "df = pd.DataFrame()"
   ]
  },
  {
   "cell_type": "code",
   "execution_count": 5,
   "metadata": {},
   "outputs": [],
   "source": [
    "linklist = []\n",
    "for x in newdatelist:\n",
    "    newlink = URL + x +'.html'\n",
    "    linklist.append(newlink)"
   ]
  },
  {
   "cell_type": "code",
   "execution_count": 7,
   "metadata": {},
   "outputs": [],
   "source": [
    "for link in linklist:\n",
    "    page = requests.get(link)\n",
    "    doc = lh.fromstring(page.content)\n",
    "    tr_elements = doc.xpath('//tr')\n",
    "    col=[]\n",
    "    i=0\n",
    "    for j in range(len(tr_elements)):\n",
    "        for t in tr_elements[j]:\n",
    "            i+=1\n",
    "            name=t.text_content()\n",
    "            col.append(name.strip())\n",
    "    daycovdata = pd.Series(col[-8:])\n",
    "    df = df.append(daycovdata, ignore_index=True)"
   ]
  },
  {
   "cell_type": "code",
   "execution_count": 8,
   "metadata": {},
   "outputs": [],
   "source": [
    "df['date'] = datelist"
   ]
  },
  {
   "cell_type": "code",
   "execution_count": 9,
   "metadata": {},
   "outputs": [],
   "source": [
    "df.columns = [\"Arr-HKres\", \"Arr-MAINLANDvis\", \"Arr-OTHERvis\", \"Arr-Total\", \"Dep-HKres\", \"Dep-MAINLANDvis\", \"Dep-OTHERvis\", \"Dep-Total\", \"Date\"]"
   ]
  },
  {
   "cell_type": "code",
   "execution_count": 10,
   "metadata": {},
   "outputs": [],
   "source": [
    "df = df.set_index('Date')"
   ]
  },
  {
   "cell_type": "code",
   "execution_count": 20,
   "metadata": {},
   "outputs": [],
   "source": [
    "df = df.replace({',':''}, regex=True)"
   ]
  },
  {
   "cell_type": "code",
   "execution_count": 24,
   "metadata": {},
   "outputs": [],
   "source": [
    "df = df.applymap(int)"
   ]
  },
  {
   "cell_type": "code",
   "execution_count": 26,
   "metadata": {},
   "outputs": [
    {
     "name": "stdout",
     "output_type": "stream",
     "text": [
      "<class 'pandas.core.frame.DataFrame'>\n",
      "Index: 159 entries, 2020-01-24 to 2020-06-30\n",
      "Data columns (total 8 columns):\n",
      " #   Column           Non-Null Count  Dtype\n",
      "---  ------           --------------  -----\n",
      " 0   Arr-HKres        159 non-null    int64\n",
      " 1   Arr-MAINLANDvis  159 non-null    int64\n",
      " 2   Arr-OTHERvis     159 non-null    int64\n",
      " 3   Arr-Total        159 non-null    int64\n",
      " 4   Dep-HKres        159 non-null    int64\n",
      " 5   Dep-MAINLANDvis  159 non-null    int64\n",
      " 6   Dep-OTHERvis     159 non-null    int64\n",
      " 7   Dep-Total        159 non-null    int64\n",
      "dtypes: int64(8)\n",
      "memory usage: 11.2+ KB\n"
     ]
    }
   ],
   "source": [
    "df.info()"
   ]
  },
  {
   "cell_type": "code",
   "execution_count": 27,
   "metadata": {},
   "outputs": [],
   "source": [
    "df.to_csv('Immigration.csv')"
   ]
  }
 ],
 "metadata": {
  "kernelspec": {
   "display_name": "Python 3",
   "language": "python",
   "name": "python3"
  },
  "language_info": {
   "codemirror_mode": {
    "name": "ipython",
    "version": 3
   },
   "file_extension": ".py",
   "mimetype": "text/x-python",
   "name": "python",
   "nbconvert_exporter": "python",
   "pygments_lexer": "ipython3",
   "version": "3.8.3"
  }
 },
 "nbformat": 4,
 "nbformat_minor": 4
}
