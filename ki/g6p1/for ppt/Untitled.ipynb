{
 "cells": [
  {
   "cell_type": "code",
   "execution_count": 1,
   "metadata": {},
   "outputs": [
    {
     "name": "stdout",
     "output_type": "stream",
     "text": [
      "1\n"
     ]
    }
   ],
   "source": [
    "import requests\n",
    "import json\n",
    "a = requests.get('https://openapi.westkowloon.hk/datagovhk/carpark')\n",
    "b = json.loads(a.text)\n",
    "print(len(b))"
   ]
  },
  {
   "cell_type": "code",
   "execution_count": 12,
   "metadata": {},
   "outputs": [
    {
     "data": {
      "text/plain": [
       "'Art Park (Zone E) Car Park, West Kowloon Cultural District'"
      ]
     },
     "execution_count": 12,
     "metadata": {},
     "output_type": "execute_result"
    }
   ],
   "source": [
    "b['carParks'][1]['name']['en']"
   ]
  },
  {
   "cell_type": "code",
   "execution_count": 2,
   "metadata": {},
   "outputs": [
    {
     "data": {
      "text/plain": [
       "{'carParks': [{'id': 'CP001',\n",
       "   'td_eParking_id': 'tdc17p1',\n",
       "   'name': {'en': 'Xiqu Centre Car Park, West Kowloon Cultural District',\n",
       "    'tc': '西九文化區戲曲中心停車場',\n",
       "    'sc': '西九文化区戏曲中心停车场'},\n",
       "   'address': {'en': '88 Austin Road West, Tsim Sha Tsui, Kowloon',\n",
       "    'tc': '香港九龍尖沙咀柯士甸道西88號',\n",
       "    'sc': '香港九龙尖沙咀柯士甸道西88号'},\n",
       "   'district': {'en': 'Yau Tsim Mong', 'tc': '油尖旺區', 'sc': '油尖旺区'},\n",
       "   'contactNo': '/',\n",
       "   'openingStatus': 'OPEN',\n",
       "   'heightLimit': 2.45,\n",
       "   'latitude': '22.30235672',\n",
       "   'longitude': '114.1673496',\n",
       "   'remark': {'en': '2.45 (Applicable to Private Cars/Vans)',\n",
       "    'tc': '2.45 (此高度限制適用於私家車/客貨車)',\n",
       "    'sc': '2.45 (此高度限制适用于私家车/客货车)'},\n",
       "   'website': {'en': 'http://www.wkcda.hk',\n",
       "    'tc': 'http://www.wkcda.hk',\n",
       "    'sc': 'http://www.wkcda.hk'},\n",
       "   'hourly_park_weekdays_except_public_holidays': '$28 per hour',\n",
       "   'hourly_park_Sat_Sun_and_public_holidays': '$30 per hour',\n",
       "   'day_park_8:00am_6:00pm': '/',\n",
       "   'opening_hours': '24-hours',\n",
       "   'vacancies': [{'vehicleType': 'P',\n",
       "     'hourly': 32,\n",
       "     'monthly': 0,\n",
       "     'timestamp': '09/14/2020 17:43:20.000000'},\n",
       "    {'vehicleType': 'L',\n",
       "     'hourly': 32,\n",
       "     'monthly': 0,\n",
       "     'timestamp': '09/14/2020 17:43:20.000000'},\n",
       "    {'vehicleType': 'M',\n",
       "     'hourly': 32,\n",
       "     'monthly': 0,\n",
       "     'timestamp': '09/14/2020 17:43:20.000000'}],\n",
       "   'timestamp': '2020-09-14T17:45:29+800'},\n",
       "  {'id': 'CP002',\n",
       "   'td_eParking_id': 'tdc17p2',\n",
       "   'name': {'en': 'Art Park (Zone E) Car Park, West Kowloon Cultural District',\n",
       "    'tc': '西九藝術公園(E區)停車場',\n",
       "    'sc': '西九艺术公园(E区)停车场'},\n",
       "   'address': {'en': 'West Kowloon Cultural District, No.36 Museum Drive, Kowloon, Hong Kong',\n",
       "    'tc': '香港九龍西九文化區博物館道36號',\n",
       "    'sc': '香港九龙西九文化区博物馆道36号'},\n",
       "   'district': {'en': 'Yau Tsim Mong', 'tc': '油尖旺區', 'sc': '油尖旺区'},\n",
       "   'contactNo': '(852) 2104 5366',\n",
       "   'openingStatus': 'OPEN',\n",
       "   'heightLimit': 2.1,\n",
       "   'latitude': '22.30137257',\n",
       "   'longitude': '114.1583411',\n",
       "   'remark': {'en': 'Height Limit: 2.1 (Applicable to Private Cars/Vans)\\n24 hours',\n",
       "    'tc': '高度限制: 2.1 (此高度限制適用於私家車/客貨車)\\n24小時',\n",
       "    'sc': '高度限制: 2.1 (此高度限制适用于私家车/客货车)\\n24小时'},\n",
       "   'website': {'en': 'http://www.wkcda.hk',\n",
       "    'tc': 'http://www.wkcda.hk',\n",
       "    'sc': 'http://www.wkcda.hk'},\n",
       "   'hourly_park_weekdays_except_public_holidays': '$20 per hour',\n",
       "   'hourly_park_Sat_Sun_and_public_holidays': '$25 per hour',\n",
       "   'day_park_8:00am_6:00pm': '$60 per day ',\n",
       "   'opening_hours': '24-hours',\n",
       "   'vacancies': [{'vehicleType': 'P',\n",
       "     'hourly': 74,\n",
       "     'timestamp': '09/14/2020 17:44:04.000000'},\n",
       "    {'vehicleType': 'M',\n",
       "     'hourly': 0,\n",
       "     'timestamp': '09/14/2020 17:44:04.000000'}],\n",
       "   'timestamp': '2020-09-14T17:45:29+800'}]}"
      ]
     },
     "execution_count": 2,
     "metadata": {},
     "output_type": "execute_result"
    }
   ],
   "source": [
    "b"
   ]
  },
  {
   "cell_type": "code",
   "execution_count": null,
   "metadata": {},
   "outputs": [],
   "source": []
  }
 ],
 "metadata": {
  "kernelspec": {
   "display_name": "Python 3",
   "language": "python",
   "name": "python3"
  },
  "language_info": {
   "codemirror_mode": {
    "name": "ipython",
    "version": 3
   },
   "file_extension": ".py",
   "mimetype": "text/x-python",
   "name": "python",
   "nbconvert_exporter": "python",
   "pygments_lexer": "ipython3",
   "version": "3.7.6"
  }
 },
 "nbformat": 4,
 "nbformat_minor": 4
}
